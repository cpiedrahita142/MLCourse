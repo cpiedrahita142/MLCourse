{
  "nbformat": 4,
  "nbformat_minor": 0,
  "metadata": {
    "kernelspec": {
      "display_name": "Python 3",
      "language": "python",
      "name": "python3"
    },
    "language_info": {
      "codemirror_mode": {
        "name": "ipython",
        "version": 3
      },
      "file_extension": ".py",
      "mimetype": "text/x-python",
      "name": "python",
      "nbconvert_exporter": "python",
      "pygments_lexer": "ipython3",
      "version": "3.7.4"
    },
    "colab": {
      "name": "WarmUp.ipynb",
      "provenance": []
    }
  },
  "cells": [
    {
      "cell_type": "markdown",
      "metadata": {
        "id": "RpA-DvJZuiX0",
        "colab_type": "text"
      },
      "source": [
        "# Warm Up Python !!!\n",
        "\n",
        "Para un proyecto de ML es importante realizar una análisis previo de los datos con el fin de alistarlos para la fase de modelamiento.\n",
        "\n",
        "## Objetivo:\n",
        "El objetivo de este taller es aprender códigos básicos que te permitiran abordar en tus proyectos personales la fase de preprocesamiento y exploración de los datos."
      ]
    },
    {
      "cell_type": "markdown",
      "metadata": {
        "id": "Nmu6JY8GuiX9",
        "colab_type": "text"
      },
      "source": [
        "## Exploración de Datos\n",
        "Para esta fase inicial conocer algunas funciones que nos provee pandas para facilitarnos la vida son fundamentales.  Dentro de esta fase se desea identificar el dataset que tipo de datos maneja, si tenemos nulos en nuestro conjunto de datos, entre otros.\n",
        "\n",
        "Estas son algunas funciones que nos sirven para esta fase:\n",
        "\n",
        "```python\n",
        "df.head()\n",
        "df.tail()\n",
        "df.info()\n",
        "df.shape\n",
        "df.columns\n",
        "df.describe()\n",
        "df.value_counts()\n",
        "df.unique()\n",
        "df.nunique()\n",
        "```\n",
        "\n",
        "Trabajemos con el famoso conjunto de datos del [titanic](https://www.kaggle.com/c/titanic/data).\n",
        "\n",
        "- PassengerId -- A numerical id assigned to each passenger.\n",
        "- Survived -- Whether the passenger survived (1), or didn't (0).\n",
        "- Pclass -- The class the passenger was in.\n",
        "- Name -- the name of the passenger.\n",
        "- Sex -- The gender of the passenger -- male or female.\n",
        "- Age -- The age of the passenger.  Fractional.\n",
        "- SibSp -- The number of siblings and spouses the passenger had on board.\n",
        "- Parch -- The number of parents and children the passenger had on board.\n",
        "- Ticket -- The ticket number of the passenger.\n",
        "- Fare -- How much the passenger paid for the ticket.\n",
        "- Cabin -- Which cabin the passenger was in.\n",
        "- Embarked -- Where the passenger boarded the Titanic."
      ]
    },
    {
      "cell_type": "code",
      "metadata": {
        "id": "OyoL2pXEuiYB",
        "colab_type": "code",
        "colab": {}
      },
      "source": [
        "# Importando librerias\n",
        "import pandas as pd\n",
        "# Cargamos el archivo\n",
        "titanic = pd.read_csv(\"train.csv\")"
      ],
      "execution_count": 0,
      "outputs": []
    },
    {
      "cell_type": "code",
      "metadata": {
        "id": "gasF8zYiuiYM",
        "colab_type": "code",
        "colab": {}
      },
      "source": [
        "# Visualiza las primeras 2 filas del titanic\n",
        "titanic.head(2)"
      ],
      "execution_count": 0,
      "outputs": []
    },
    {
      "cell_type": "code",
      "metadata": {
        "id": "SbVdc5nxuiYR",
        "colab_type": "code",
        "colab": {}
      },
      "source": [
        "# Visualiza las ultimas 2 filas del titanic\n",
        "titanic.tail(2)"
      ],
      "execution_count": 0,
      "outputs": []
    },
    {
      "cell_type": "code",
      "metadata": {
        "id": "bNJxfN1uuiYV",
        "colab_type": "code",
        "colab": {}
      },
      "source": [
        "# Conocer cuantas filas y columnas tiene nuestro dataset\n",
        "titanic.shape"
      ],
      "execution_count": 0,
      "outputs": []
    },
    {
      "cell_type": "code",
      "metadata": {
        "id": "1jK9qowAuiYZ",
        "colab_type": "code",
        "colab": {}
      },
      "source": [
        "# Tipos de datos que tiene nuestro dataset y que cantidad de nulos tiene\n",
        "titanic.info()"
      ],
      "execution_count": 0,
      "outputs": []
    },
    {
      "cell_type": "code",
      "metadata": {
        "id": "n_d57F7cuiYd",
        "colab_type": "code",
        "colab": {}
      },
      "source": [
        "# Otra manera de visualizar los nulos por columna\n",
        "titanic.isnull().sum()"
      ],
      "execution_count": 0,
      "outputs": []
    },
    {
      "cell_type": "code",
      "metadata": {
        "id": "6l7nbIWIuiYg",
        "colab_type": "code",
        "colab": {}
      },
      "source": [
        "# Otra manera de conocer los tipos de datos\n",
        "titanic.dtypes"
      ],
      "execution_count": 0,
      "outputs": []
    },
    {
      "cell_type": "code",
      "metadata": {
        "id": "wcfCa6iauiYj",
        "colab_type": "code",
        "colab": {}
      },
      "source": [
        "# Resumen de las columnas numericas\n",
        "titanic.describe()"
      ],
      "execution_count": 0,
      "outputs": []
    },
    {
      "cell_type": "code",
      "metadata": {
        "id": "7TjAw3uCuiYm",
        "colab_type": "code",
        "colab": {}
      },
      "source": [
        "# Resumen de las columnas categoricas\n",
        "titanic.describe(include = ['O'])"
      ],
      "execution_count": 0,
      "outputs": []
    },
    {
      "cell_type": "code",
      "metadata": {
        "id": "98JqCH0SuiYp",
        "colab_type": "code",
        "colab": {}
      },
      "source": [
        "# Valores unicos por columna sin tener en cuenta nulos\n",
        "titanic.nunique()"
      ],
      "execution_count": 0,
      "outputs": []
    },
    {
      "cell_type": "code",
      "metadata": {
        "id": "crH1Wpo-uiYu",
        "colab_type": "code",
        "colab": {}
      },
      "source": [
        "# Valores unicos por columna teniendo en cuenta nulos\n",
        "titanic.nunique(dropna=False)"
      ],
      "execution_count": 0,
      "outputs": []
    },
    {
      "cell_type": "code",
      "metadata": {
        "id": "SnSVP6TkuiYw",
        "colab_type": "code",
        "colab": {}
      },
      "source": [
        "# Conteo de valores por columna de no nulos\n",
        "titanic.count()"
      ],
      "execution_count": 0,
      "outputs": []
    },
    {
      "cell_type": "code",
      "metadata": {
        "id": "ZreOglZwuiYz",
        "colab_type": "code",
        "colab": {}
      },
      "source": [
        "# Valor mas frecuente en la serie\n",
        "titanic['Embarked'].mode()"
      ],
      "execution_count": 0,
      "outputs": []
    },
    {
      "cell_type": "code",
      "metadata": {
        "id": "3YaNHc3cuiY1",
        "colab_type": "code",
        "colab": {}
      },
      "source": [
        "# Valores unicos de la columna 'Embarked'\n",
        "titanic['Embarked'].unique()"
      ],
      "execution_count": 0,
      "outputs": []
    },
    {
      "cell_type": "code",
      "metadata": {
        "scrolled": true,
        "id": "2WbZVARyuiY4",
        "colab_type": "code",
        "colab": {}
      },
      "source": [
        "# Cuantos registros tenemos por categoria de la columna 'Embarked' sin nulos\n",
        "titanic['Embarked'].value_counts()"
      ],
      "execution_count": 0,
      "outputs": []
    },
    {
      "cell_type": "code",
      "metadata": {
        "id": "3jVVkG6OuiY7",
        "colab_type": "code",
        "colab": {}
      },
      "source": [
        "# Cuantos registros tenemos por categoria de la columna 'Embarked' con nulos\n",
        "titanic['Embarked'].value_counts(dropna=False)"
      ],
      "execution_count": 0,
      "outputs": []
    },
    {
      "cell_type": "code",
      "metadata": {
        "id": "0broMObTuiY-",
        "colab_type": "code",
        "colab": {}
      },
      "source": [
        "# Cuales son los nombres de las columnas del dataset\n",
        "titanic.columns"
      ],
      "execution_count": 0,
      "outputs": []
    },
    {
      "cell_type": "markdown",
      "metadata": {
        "id": "Xu6rWEDGuiZA",
        "colab_type": "text"
      },
      "source": [
        "Ahora que tenemos una idea de la información que tenemos, vamos a empezar a transformarla para poder tener nuestros datos listos para la fase de visualización, de esta fase podemos concluir que PassengerId y Name que tienen 891 registros unicos no son columnas que nos sirvan para un analisis posterior, la columna Ticket tambien son 681 valores unicos esta tampoco nos sirve, y por ultimo la columna Cabin tiene el 77% de los datos nulos, lo que hace que tampoco nos sirva para más adelante."
      ]
    },
    {
      "cell_type": "markdown",
      "metadata": {
        "id": "GblcQz0wuiZB",
        "colab_type": "text"
      },
      "source": [
        "### Practica\n",
        "\n",
        "Con las columnas Genero ('Sex'), Edad ('Age') y el valor del tiquete ('Fare'), responde las siguientes preguntas:\n",
        "\n",
        "- ¿Cuantos Hombres y Mujeres tenemos en nuestro dataset?\n",
        "- ¿Cual es la edad mas frecuente en nuestro conjunto de datos?\n",
        "- ¿Cual es la edad mas frecuente en las mujeres?\n",
        "- ¿Cual es la edad mas frecuente en los hombres?\n",
        "- ¿Cual es el precio del tiquete mas común?\n",
        "- ¿El precio del tiquete mas común es el mismo para hombres y para mujeres?"
      ]
    },
    {
      "cell_type": "code",
      "metadata": {
        "id": "UhY31f15uiZC",
        "colab_type": "code",
        "colab": {}
      },
      "source": [
        "#¿Cuantos Hombres y Mujeres tenemos en nuestro dataset?\n",
        "#Tu código\n"
      ],
      "execution_count": 0,
      "outputs": []
    },
    {
      "cell_type": "markdown",
      "metadata": {
        "id": "4PiWvM5kuiZE",
        "colab_type": "text"
      },
      "source": [
        "**Deberia de tener el siguiente resultado:**\n",
        "\n",
        "```\n",
        "male      577\n",
        "female    314\n",
        "Name: Sex, dtype: int64\n",
        "```"
      ]
    },
    {
      "cell_type": "markdown",
      "metadata": {
        "id": "AnFzmsV4uiZF",
        "colab_type": "text"
      },
      "source": [
        "Doble-clic __Aqui__ para la solución.\n",
        "\n",
        "<!-- Your answer is below:\n",
        "titanic['Sex'].value_counts()\n",
        "-->"
      ]
    },
    {
      "cell_type": "code",
      "metadata": {
        "id": "Is6lT0e-uiZG",
        "colab_type": "code",
        "colab": {}
      },
      "source": [
        "#¿Cual es la edad mas frecuente en nuestro conjunto de datos?\n",
        "#Tu código\n"
      ],
      "execution_count": 0,
      "outputs": []
    },
    {
      "cell_type": "markdown",
      "metadata": {
        "id": "cukM13zCuiZJ",
        "colab_type": "text"
      },
      "source": [
        "**Deberia de tener el siguiente resultado:**\n",
        "\n",
        "```\n",
        "0    24.0\n",
        "dtype: float64\n",
        "```"
      ]
    },
    {
      "cell_type": "markdown",
      "metadata": {
        "id": "mioMp_aCuiZK",
        "colab_type": "text"
      },
      "source": [
        "Doble-clic __Aqui__ para la solución.\n",
        "\n",
        "<!-- Your answer is below:\n",
        "titanic['Age'].mode()\n",
        "-->"
      ]
    },
    {
      "cell_type": "code",
      "metadata": {
        "id": "0Yf667fouiZL",
        "colab_type": "code",
        "colab": {}
      },
      "source": [
        "#¿Cual es la edad mas frecuente en las mujeres?\n",
        "#Tu código\n"
      ],
      "execution_count": 0,
      "outputs": []
    },
    {
      "cell_type": "markdown",
      "metadata": {
        "id": "sF4-4QzfuiZO",
        "colab_type": "text"
      },
      "source": [
        "**Deberia de tener el siguiente resultado:**\n",
        "\n",
        "```\n",
        "0    24.0\n",
        "dtype: float64\n",
        "```"
      ]
    },
    {
      "cell_type": "markdown",
      "metadata": {
        "id": "F_OJ6ubruiZO",
        "colab_type": "text"
      },
      "source": [
        "Doble-clic __Aqui__ para la solución.\n",
        "\n",
        "<!-- Your answer is below:\n",
        "titanic[titanic['Sex']=='female']['Age'].mode()\n",
        "-->"
      ]
    },
    {
      "cell_type": "code",
      "metadata": {
        "id": "mPxftnbpuiZP",
        "colab_type": "code",
        "colab": {}
      },
      "source": [
        "#¿Cual es la edad mas frecuente en los hombres?\n",
        "#Tu código\n"
      ],
      "execution_count": 0,
      "outputs": []
    },
    {
      "cell_type": "markdown",
      "metadata": {
        "id": "ycHvpLZnuiZT",
        "colab_type": "text"
      },
      "source": [
        "**Deberia de tener el siguiente resultado:**\n",
        "\n",
        "```\n",
        "0    19.0\n",
        "1    25.0\n",
        "2    28.0\n",
        "dtype: float64\n",
        "```"
      ]
    },
    {
      "cell_type": "markdown",
      "metadata": {
        "id": "Wk463WjduiZT",
        "colab_type": "text"
      },
      "source": [
        "Doble-clic __Aqui__ para la solución.\n",
        "\n",
        "<!-- Your answer is below:\n",
        "titanic[titanic['Sex']=='male']['Age'].mode()\n",
        "-->"
      ]
    },
    {
      "cell_type": "code",
      "metadata": {
        "id": "UrlZO97NuiZU",
        "colab_type": "code",
        "colab": {}
      },
      "source": [
        "#¿Cual es el precio del tiquete mas común?\n",
        "#Tu código\n"
      ],
      "execution_count": 0,
      "outputs": []
    },
    {
      "cell_type": "markdown",
      "metadata": {
        "id": "nKeThAXOuiZW",
        "colab_type": "text"
      },
      "source": [
        "**Deberia de tener el siguiente resultado:**\n",
        "\n",
        "```\n",
        "0    8.05\n",
        "dtype: float64\n",
        "```"
      ]
    },
    {
      "cell_type": "markdown",
      "metadata": {
        "id": "r5bBYwF6uiZX",
        "colab_type": "text"
      },
      "source": [
        "Doble-clic __Aqui__ para la solución.\n",
        "\n",
        "<!-- Your answer is below:\n",
        "titanic['Fare'].mode()\n",
        "-->"
      ]
    },
    {
      "cell_type": "code",
      "metadata": {
        "id": "CJ-t0dHAuiZY",
        "colab_type": "code",
        "colab": {}
      },
      "source": [
        "#¿El precio del tiquete más común es el mismo para hombres y para mujeres?\n",
        "#Tu código\n"
      ],
      "execution_count": 0,
      "outputs": []
    },
    {
      "cell_type": "markdown",
      "metadata": {
        "id": "msmSUsSuuiZa",
        "colab_type": "text"
      },
      "source": [
        "**Deberia de tener el siguiente resultado:**\n",
        "\n",
        "```\n",
        "Precio común del tiquete para mujeres :7.75\n",
        "Precio común del tiquete para hombres :8.05\n",
        "```"
      ]
    },
    {
      "cell_type": "markdown",
      "metadata": {
        "id": "UQ4oj8BYuiZa",
        "colab_type": "text"
      },
      "source": [
        "Doble-clic __Aqui__ para la solución.\n",
        "\n",
        "<!-- Your answer is below:\n",
        "print('Precio común del tiquete para mujeres :' + str(titanic[titanic['Sex']=='female']['Fare'].mode()[0]))\n",
        "print('Precio común del tiquete para hombres :' + str(titanic[titanic['Sex']=='male']['Fare'].mode()[0]))\n",
        "-->"
      ]
    },
    {
      "cell_type": "markdown",
      "metadata": {
        "id": "brnmD4pxuiZb",
        "colab_type": "text"
      },
      "source": [
        "## Preprocesamiento:\n",
        "Para esta fase tener un buen conocimiento de Pandas será muy útil, adicional estructurar esta fase de preprocesamiento con la ayuda de funciones, nos permitirá tener codigo que podremos reutilizar en otros proyectos.\n",
        "\n",
        "Dentro de las actividades que se podrían hacer en preprocesamiento se encuentras las siguientes:\n",
        "\n",
        "**Borrar columnas**\n",
        "\n",
        "**Enriching (or Transforming)** un conjunto de datos, agregando columnas recién calculadas en los índices.\n",
        "\n",
        "**Filtering** seleccionando un subconjunto de las filas o columnas de un conjunto de datos de acuerdo con algún criterio.\n",
        "\n",
        "**Indexing** agregando índices a un conjunto de datos.\n",
        "\n",
        "**Aggregating**\n",
        "\n",
        "**Sorting** ordenar las filas de un conjunto de datos según algún criterio\n",
        "\n",
        "**Merging** fusionar los conjuntos de datos de alguna manera. Esto incluye: concatenación (horizontal o vertical) y también unión.\n",
        "\n",
        "**Pivoting**: esto incluye la transposición y la realización de otras operaciones para que los datos que originalmente tenían un diseño vertical se distribuyan horizontalmente (aumentando el número de columnas) o viceversa (aumentando el número de filas). \n",
        "\n",
        "Entre otras."
      ]
    },
    {
      "cell_type": "code",
      "metadata": {
        "id": "C9F699FUuiZc",
        "colab_type": "code",
        "colab": {}
      },
      "source": [
        "# Eliminar columnas PassengerId, Name, Cabin, la columna ticket no la vamos a eliminar todavia.\n",
        "titanic.drop(['PassengerId','Name','Cabin'],axis=1, inplace=True)\n",
        "titanic.shape"
      ],
      "execution_count": 0,
      "outputs": []
    },
    {
      "cell_type": "code",
      "metadata": {
        "id": "zeMGrPmuuiZe",
        "colab_type": "code",
        "colab": {}
      },
      "source": [
        "# Validar nulos nuevamente\n",
        "titanic.isnull().sum()"
      ],
      "execution_count": 0,
      "outputs": []
    },
    {
      "cell_type": "code",
      "metadata": {
        "id": "UJTpZfHAuiZh",
        "colab_type": "code",
        "colab": {}
      },
      "source": [
        "# En los primeros 10 registros tenemos un campo de edad nulo, vamos a tenerlo como referencia para lo que vamos a hacer\n",
        "titanic.head(10)"
      ],
      "execution_count": 0,
      "outputs": []
    },
    {
      "cell_type": "markdown",
      "metadata": {
        "id": "sdFHbjqnuiZj",
        "colab_type": "text"
      },
      "source": [
        "### Nulos\n",
        "Dependiendo del problema el tratamiento de los nulos se puede manejar de diferentes maneras:\n",
        "\n",
        "* Conservalos\n",
        "* Eliminarlos\n",
        "* Dejar un valor fijo que los diferencie\n",
        "* Reemplazarlos con un estadistico (media, mediana, moda) Cual usar si tenemos outliers?\n",
        "* Forward o backward fill"
      ]
    },
    {
      "cell_type": "code",
      "metadata": {
        "id": "R1UgTs7RuiZk",
        "colab_type": "code",
        "colab": {}
      },
      "source": [
        "# Para eliminarlos usamos\n",
        "titanic.dropna(inplace=True)\n",
        "titanic.shape"
      ],
      "execution_count": 0,
      "outputs": []
    },
    {
      "cell_type": "code",
      "metadata": {
        "id": "-NQsiFXQuiZm",
        "colab_type": "code",
        "colab": {}
      },
      "source": [
        "# Validar nulos nuevamente\n",
        "titanic.isnull().sum()"
      ],
      "execution_count": 0,
      "outputs": []
    },
    {
      "cell_type": "code",
      "metadata": {
        "scrolled": true,
        "id": "E440MfcRuiZn",
        "colab_type": "code",
        "colab": {}
      },
      "source": [
        "# En los primeros 10 registros tenemos un campo de edad nulo, vamos a tenerlo como referencia para lo que vamos a hacer\n",
        "titanic.head(10)"
      ],
      "execution_count": 0,
      "outputs": []
    },
    {
      "cell_type": "code",
      "metadata": {
        "id": "Tnv6gvl3uiZp",
        "colab_type": "code",
        "colab": {}
      },
      "source": [
        "# Dejar un valor fijo que los diferencie\n",
        "titanic = pd.read_csv(\"train.csv\")\n",
        "titanic.drop(['PassengerId','Name','Cabin'],axis=1, inplace=True)\n",
        "titanic.fillna(-1).head(10)"
      ],
      "execution_count": 0,
      "outputs": []
    },
    {
      "cell_type": "code",
      "metadata": {
        "scrolled": true,
        "id": "Upjx_GwPuiZs",
        "colab_type": "code",
        "colab": {}
      },
      "source": [
        "titanic['Age'].fillna(titanic['Age'].mean()).head(10)"
      ],
      "execution_count": 0,
      "outputs": []
    },
    {
      "cell_type": "code",
      "metadata": {
        "scrolled": true,
        "id": "DQupozC4uiZu",
        "colab_type": "code",
        "colab": {}
      },
      "source": [
        "titanic['Age'].fillna(titanic['Age'].median()).head(10)"
      ],
      "execution_count": 0,
      "outputs": []
    },
    {
      "cell_type": "code",
      "metadata": {
        "scrolled": true,
        "id": "fh5sYGhVuiZx",
        "colab_type": "code",
        "colab": {}
      },
      "source": [
        "titanic['Age'].fillna(titanic['Age'].mode()[0]).head(10)"
      ],
      "execution_count": 0,
      "outputs": []
    },
    {
      "cell_type": "code",
      "metadata": {
        "scrolled": true,
        "id": "dcgAG5yruiZz",
        "colab_type": "code",
        "colab": {}
      },
      "source": [
        "titanic['Age'].fillna(method='backfill').head(10)"
      ],
      "execution_count": 0,
      "outputs": []
    },
    {
      "cell_type": "code",
      "metadata": {
        "id": "xUfTlK2HuiZ1",
        "colab_type": "code",
        "colab": {}
      },
      "source": [
        "titanic['Age'].fillna(method='ffill').head(10)"
      ],
      "execution_count": 0,
      "outputs": []
    },
    {
      "cell_type": "markdown",
      "metadata": {
        "id": "gPDoAR-uuiZ4",
        "colab_type": "text"
      },
      "source": [
        "Para nuestro ejercicio tomaremos la decisión de borrar los nulos."
      ]
    },
    {
      "cell_type": "code",
      "metadata": {
        "id": "zqTVVhUcuiZ5",
        "colab_type": "code",
        "colab": {}
      },
      "source": [
        "# Para eliminarlos usamos\n",
        "titanic.dropna(inplace=True)\n",
        "titanic.shape"
      ],
      "execution_count": 0,
      "outputs": []
    },
    {
      "cell_type": "markdown",
      "metadata": {
        "id": "ZvQaVdVWuiZ9",
        "colab_type": "text"
      },
      "source": [
        "### Columnas\n",
        "Para ser practicos, normalmente modificamos los nombres de las columnas con el fin de quitar espacios en blanco, caracteres especiales, dejar los nombres en minuscula así que a continuacion realizaremos ese cambio."
      ]
    },
    {
      "cell_type": "code",
      "metadata": {
        "id": "QJSeYbeWuiZ-",
        "colab_type": "code",
        "colab": {}
      },
      "source": [
        "# Cambiar nombre de columnas a minusculas\n",
        "titanic.rename(columns = lambda col: col.lower(),inplace=True)"
      ],
      "execution_count": 0,
      "outputs": []
    },
    {
      "cell_type": "code",
      "metadata": {
        "id": "Gl3YnA-kuiaA",
        "colab_type": "code",
        "colab": {}
      },
      "source": [
        "# Validar dataset\n",
        "titanic.info()"
      ],
      "execution_count": 0,
      "outputs": []
    },
    {
      "cell_type": "markdown",
      "metadata": {
        "id": "cluOgJZ0uiaC",
        "colab_type": "text"
      },
      "source": [
        "### Indices"
      ]
    },
    {
      "cell_type": "code",
      "metadata": {
        "id": "xyQGJRWNuiaE",
        "colab_type": "code",
        "colab": {}
      },
      "source": [
        "# Luego de eliminar los nulos, se debe de resetear los indices, como puedes ver aparecen de 0 a 890 todavia \n",
        "# a persar de que tenemos 712 filas.\n",
        "titanic.reset_index(drop=True,inplace=True)\n",
        "titanic.info()"
      ],
      "execution_count": 0,
      "outputs": []
    },
    {
      "cell_type": "markdown",
      "metadata": {
        "id": "X-_4cl-luiaH",
        "colab_type": "text"
      },
      "source": [
        "### Agrupación"
      ]
    },
    {
      "cell_type": "code",
      "metadata": {
        "id": "FRTiStIHuiaI",
        "colab_type": "code",
        "colab": {}
      },
      "source": [
        "# Validar los tickets duplicados\n",
        "df_tickets = titanic.groupby('ticket').size().reset_index().rename(columns={0:'count'})\n",
        "df_tickets.head()"
      ],
      "execution_count": 0,
      "outputs": []
    },
    {
      "cell_type": "markdown",
      "metadata": {
        "id": "phyhDN5-uiaJ",
        "colab_type": "text"
      },
      "source": [
        "### Ordenando"
      ]
    },
    {
      "cell_type": "code",
      "metadata": {
        "id": "N0N4nik4uiaL",
        "colab_type": "code",
        "colab": {}
      },
      "source": [
        "# Ordenar los cantidad de registros por tickets\n",
        "df_tickets.sort_values(by=[\"count\"],ascending=False,inplace=True)\n",
        "df_tickets.head()"
      ],
      "execution_count": 0,
      "outputs": []
    },
    {
      "cell_type": "code",
      "metadata": {
        "id": "GpB5VWcMuiaO",
        "colab_type": "code",
        "colab": {}
      },
      "source": [
        "# Validemos un tiquete\n",
        "titanic[titanic['ticket']=='347082']"
      ],
      "execution_count": 0,
      "outputs": []
    },
    {
      "cell_type": "markdown",
      "metadata": {
        "id": "6IGeJN6-uiaS",
        "colab_type": "text"
      },
      "source": [
        "### Uniendo datasets\n",
        "Uno de las tareas que se realizan en preprocesamiento es enriquecer la información, crearemos una nueva columna llamada 'family' en esta realizaremos una marcación de 1 si el viaje fue familiar o viajaron solos."
      ]
    },
    {
      "cell_type": "markdown",
      "metadata": {
        "id": "j1O_2StOuiaT",
        "colab_type": "text"
      },
      "source": [
        "#### Merge and join\n",
        "\n",
        "Ambas funciones permiten que los datos de diferentes dataframes se combinen en uno solo de acuerdo con una regla de \"cruce\" o \"búsqueda\".\n",
        "\n",
        "Aunque tanto `merge` como` join` hacen cosas similares, la forma en que lo hacen es diferente.\n",
        "\n",
        "La función `merge` es la función predeterminada de pandas para unir datos. Básicamente es contraparte de *pandas de la unión de SQL*, y requiere la especificación de qué columnas de ambos dataframes se compararán. A Merge no le importa en absoluto los índices definidos en ellos.\n",
        "\n",
        "Por otro lado, la función `join` de Panda es más conveniente (incluso utiliza merge internamente), unir es básicamente hacer una fusión aprovechando los índices de ambos marcos de datos.\n",
        "\n",
        "La siguiente figura resume los diferentes 4 tipos de combinaciones: _inner, outer, left and right_.\n",
        "\n",
        "<img src=\"https://github.com/cpiedrahita142/MLCourse/blob/master/Introduccion/merge.png?raw=1\"/>\n",
        "\n",
        "La función merge también está disponible como método en la clase `DataFrame`.\n",
        "La sintaxis básica es:\n",
        "\n",
        "```\n",
        "new_joined_df = df.merge (another_df, left_on = \"col_in_df\", right_on = \"col_in_another_df\",\n",
        "                          how=\"inner\"|\"left\"|\"right\"|\"outer\")\n",
        "```\n",
        "\n",
        "El primer argumento (`another_df`), así como` left_on` y `right_on` son argumentos obligatorios.\n",
        "`left_on` especifica un nombre de columna en el dataframe `df` cuyos valores deben coincidir con\n",
        "los de la columna `another_df` 'especificados en `right_on`.\n",
        "\n",
        "El argumento `how` es opcional y por defecto es `inner`."
      ]
    },
    {
      "cell_type": "code",
      "metadata": {
        "id": "Ufv-KtuvuiaT",
        "colab_type": "code",
        "colab": {}
      },
      "source": [
        "# Primero adicionaremos la columna 'count' de df_tickets a nuestro dataset titanic\n",
        "titanic = titanic.merge(df_tickets,left_on='ticket',right_on='ticket',how='left')\n",
        "titanic.shape"
      ],
      "execution_count": 0,
      "outputs": []
    },
    {
      "cell_type": "code",
      "metadata": {
        "scrolled": true,
        "id": "mgQ6dv3JuiaW",
        "colab_type": "code",
        "colab": {}
      },
      "source": [
        "titanic.head()"
      ],
      "execution_count": 0,
      "outputs": []
    },
    {
      "cell_type": "markdown",
      "metadata": {
        "id": "pBtepjYGuiaY",
        "colab_type": "text"
      },
      "source": [
        "### Enriquecer dataset"
      ]
    },
    {
      "cell_type": "code",
      "metadata": {
        "id": "XFwYR8jOuiaZ",
        "colab_type": "code",
        "colab": {}
      },
      "source": [
        "titanic['family'] = [1 if count>1 else 0 for count in titanic['count']]"
      ],
      "execution_count": 0,
      "outputs": []
    },
    {
      "cell_type": "code",
      "metadata": {
        "scrolled": true,
        "id": "WTve1vAEuiab",
        "colab_type": "code",
        "colab": {}
      },
      "source": [
        "titanic.head()"
      ],
      "execution_count": 0,
      "outputs": []
    },
    {
      "cell_type": "markdown",
      "metadata": {
        "id": "U3I7SF9Zuiac",
        "colab_type": "text"
      },
      "source": [
        "### Limpliando Cadenas"
      ]
    },
    {
      "cell_type": "code",
      "metadata": {
        "id": "E1HeGwGTuiad",
        "colab_type": "code",
        "colab": {}
      },
      "source": [
        "# Recuerdan las funciones? vamos a crear una funcion que nos servira para limpiar texto, en este caso el campo tickets\n",
        "def limpiar_caracteres(cadena):\n",
        "    import re\n",
        "    patron = '[^A-Za-z0-9]+'\n",
        "    return re.sub(patron, '', cadena)"
      ],
      "execution_count": 0,
      "outputs": []
    },
    {
      "cell_type": "code",
      "metadata": {
        "scrolled": true,
        "id": "pyjxTMoguiag",
        "colab_type": "code",
        "colab": {}
      },
      "source": [
        "titanic['ticket'] = titanic['ticket'].apply(limpiar_caracteres)\n",
        "titanic.head()"
      ],
      "execution_count": 0,
      "outputs": []
    },
    {
      "cell_type": "code",
      "metadata": {
        "scrolled": true,
        "id": "0qwmCaNruiai",
        "colab_type": "code",
        "colab": {}
      },
      "source": [
        "# Para continuar eliminaremos la columna ticket\n",
        "titanic.drop('ticket',axis=1,inplace=True)\n",
        "titanic.head()"
      ],
      "execution_count": 0,
      "outputs": []
    },
    {
      "cell_type": "markdown",
      "metadata": {
        "id": "EDOpCfGOuiak",
        "colab_type": "text"
      },
      "source": [
        "### Codificando variables categoricas\n",
        "\n",
        "En ocasiones se requiere volver columnares nuestros datos categoricos, para esto usamos tambien un metodo de pandas llamado get_dummies."
      ]
    },
    {
      "cell_type": "code",
      "metadata": {
        "id": "wgx9GeX5uiak",
        "colab_type": "code",
        "colab": {}
      },
      "source": [
        "titanic['sexDummies'] = titanic['sex']\n",
        "titanic = pd.get_dummies(titanic, columns = ['sexDummies'], prefix = ['D'])\n",
        "titanic.head()"
      ],
      "execution_count": 0,
      "outputs": []
    },
    {
      "cell_type": "markdown",
      "metadata": {
        "id": "R6v45ggauiam",
        "colab_type": "text"
      },
      "source": [
        "Que hemos aprendido:\n",
        "\n",
        "- Tratar Nulos\n",
        "- Transformar columnas\n",
        "- Enriquecer información en nuestro dataset adicionando columnas calculadas\n",
        "- Hacer agregaciones\n",
        "- Unir datasets.\n",
        "- Limpiar texto con la ayuda de Regex\n",
        "- Codificando variables categoricas"
      ]
    },
    {
      "cell_type": "markdown",
      "metadata": {
        "id": "XAT_98G-uiam",
        "colab_type": "text"
      },
      "source": [
        "### Practica\n",
        "\n",
        "- Agrupar el conjunto de datos por genero ('sex') y calcular el promedio de la edad ('age').\n",
        "- Agrupar el conjunto de datos por la columna familia ('family') y contar la cantidad de registros por grupo.\n",
        "- De las familias cuantos se sobrevivieron y cuantos no."
      ]
    },
    {
      "cell_type": "code",
      "metadata": {
        "id": "HXBTgXLXuian",
        "colab_type": "code",
        "colab": {}
      },
      "source": [
        "# Agrupar el conjunto de datos por genero ('sex') y calcular el promedio de la edad ('age')\n",
        "# Tu código\n"
      ],
      "execution_count": 0,
      "outputs": []
    },
    {
      "cell_type": "markdown",
      "metadata": {
        "id": "QvBIc0-auiap",
        "colab_type": "text"
      },
      "source": [
        " **Deberia de tener el siguiente resultado:**\n",
        "\n",
        "| |sex| age | \n",
        "|-----|-----|-----|\n",
        "|0|\tfemale|\t27.915709|\n",
        "|1|male|30.726645|"
      ]
    },
    {
      "cell_type": "markdown",
      "metadata": {
        "id": "EPdXRUwkuiaq",
        "colab_type": "text"
      },
      "source": [
        "Doble-clic __Aqui__ para la solución.\n",
        "\n",
        "<!-- Your answer is below:\n",
        "titanic.groupby('sex').agg({'age':'mean'}).reset_index()\n",
        "-->"
      ]
    },
    {
      "cell_type": "code",
      "metadata": {
        "id": "DREaz0c8uiar",
        "colab_type": "code",
        "colab": {}
      },
      "source": [
        "# Agrupar el conjunto de datos por la columna familia ('family') y contar la cantidad de registros por grupo.\n",
        "# Tu código\n"
      ],
      "execution_count": 0,
      "outputs": []
    },
    {
      "cell_type": "markdown",
      "metadata": {
        "id": "_1nZZBxZuias",
        "colab_type": "text"
      },
      "source": [
        " **Deberia de tener el siguiente resultado:**\n",
        "\n",
        "| |family| count | \n",
        "|-----|-----|-----|\n",
        "|0|\t0|\t547|\n",
        "|1|1|344|"
      ]
    },
    {
      "cell_type": "markdown",
      "metadata": {
        "id": "Gxt3Mamjuiat",
        "colab_type": "text"
      },
      "source": [
        "Doble-clic __Aqui__ para la solución.\n",
        "\n",
        "<!-- Your answer is below:\n",
        "titanic.groupby(['family']).size().reset_index().rename(columns={0:'count'})\n",
        "-->"
      ]
    },
    {
      "cell_type": "code",
      "metadata": {
        "id": "9jMH67Uxuiat",
        "colab_type": "code",
        "colab": {}
      },
      "source": [
        "# De las familias cuantos se sobrevivieron y cuantos no.\n",
        "# Tu codigo\n"
      ],
      "execution_count": 0,
      "outputs": []
    },
    {
      "cell_type": "markdown",
      "metadata": {
        "id": "k7NISDcuuiaw",
        "colab_type": "text"
      },
      "source": [
        " **Deberia de tener el siguiente resultado:**\n",
        "\n",
        "| |family| survived | count |\n",
        "|-----|-----|-----|-----|\n",
        "|0|\t0|\t0| 384|\n",
        "|1|\t0|\t1| 163|\n",
        "|2|\t1|\t0| 165|\n",
        "|3|\t1|\t1| 179|"
      ]
    },
    {
      "cell_type": "markdown",
      "metadata": {
        "id": "2IOJWK_zuiax",
        "colab_type": "text"
      },
      "source": [
        "Doble-clic __Aqui__ para la solución.\n",
        "\n",
        "<!-- Your answer is below:\n",
        "titanic.groupby(['family','survived']).size().reset_index().rename(columns={0:'count'})\n",
        "-->"
      ]
    },
    {
      "cell_type": "markdown",
      "metadata": {
        "id": "o0EwPlkJuiax",
        "colab_type": "text"
      },
      "source": [
        "## Visualización:\n",
        "Para apoyar el análisis descriptivo de los datos usamos la exploración de estos a través de gráficos que nos permiten conocer más la información que vamos a utilizar para nuestros modelos, para esta fase es muy util tener conocimiento de las librerias de Python que nos permiter generar estas visualizaciones como Matplotlib y Seaborn, Pandas tambien tiene unos métodos de visualización. "
      ]
    },
    {
      "cell_type": "code",
      "metadata": {
        "scrolled": false,
        "id": "P1OUE3jmuiay",
        "colab_type": "code",
        "colab": {}
      },
      "source": [
        "import matplotlib.pyplot as plt\n",
        "import seaborn as sns\n",
        "%matplotlib inline\n",
        "\n",
        "titanic.head()"
      ],
      "execution_count": 0,
      "outputs": []
    },
    {
      "cell_type": "markdown",
      "metadata": {
        "id": "VpUtzgw0uia0",
        "colab_type": "text"
      },
      "source": [
        "### Lineas"
      ]
    },
    {
      "cell_type": "code",
      "metadata": {
        "scrolled": false,
        "id": "L89rjrYWuia0",
        "colab_type": "code",
        "colab": {}
      },
      "source": [
        "# Empecemos con un grafico sencillo, al no colocar X se asume que x es cada uno de los registros.\n",
        "plt.figure(figsize=(6,3))\n",
        "plt.plot(titanic['age'])\n",
        "plt.title('Titanic Graficando la Edad')\n",
        "plt.show()"
      ],
      "execution_count": 0,
      "outputs": []
    },
    {
      "cell_type": "markdown",
      "metadata": {
        "id": "OQbGT1RIuia3",
        "colab_type": "text"
      },
      "source": [
        "### Histogramas"
      ]
    },
    {
      "cell_type": "code",
      "metadata": {
        "id": "-Phtlvocuia4",
        "colab_type": "code",
        "colab": {}
      },
      "source": [
        "plt.figure(figsize=(6,4))\n",
        "sns.distplot(titanic['age'])\n",
        "plt.title('Titanic Histograma de la Edad')\n",
        "plt.show()"
      ],
      "execution_count": 0,
      "outputs": []
    },
    {
      "cell_type": "code",
      "metadata": {
        "id": "Kv_RSGeAuia7",
        "colab_type": "code",
        "colab": {}
      },
      "source": [
        "# Si solo queremos la funcion de densidad\n",
        "plt.figure(figsize=(6,3))\n",
        "sns.kdeplot(titanic['age'],shade=True)\n",
        "plt.title('Titanic Densidad de la Edad')\n",
        "plt.xlabel('age')"
      ],
      "execution_count": 0,
      "outputs": []
    },
    {
      "cell_type": "code",
      "metadata": {
        "id": "E1oAw67Uuia8",
        "colab_type": "code",
        "colab": {}
      },
      "source": [
        "g = sns.FacetGrid(titanic, col=\"survived\", height=3)\n",
        "g.map(sns.kdeplot, 'age', shade=True)\n",
        "g.despine(left=True,bottom=True)"
      ],
      "execution_count": 0,
      "outputs": []
    },
    {
      "cell_type": "code",
      "metadata": {
        "id": "Ki14uZ0tuia9",
        "colab_type": "code",
        "colab": {}
      },
      "source": [
        "g = sns.FacetGrid(titanic, col='survived', row='pclass', hue='sex', height=3)\n",
        "g.map(sns.kdeplot, 'age', shade=True).add_legend()\n",
        "g.despine(left=True, bottom=True)\n",
        "plt.show()"
      ],
      "execution_count": 0,
      "outputs": []
    },
    {
      "cell_type": "markdown",
      "metadata": {
        "id": "WnWTgbjKuia_",
        "colab_type": "text"
      },
      "source": [
        "### Boxplot"
      ]
    },
    {
      "cell_type": "code",
      "metadata": {
        "id": "NzhswA3Huia_",
        "colab_type": "code",
        "colab": {}
      },
      "source": [
        "plt.figure(figsize=(6,3))\n",
        "sns.boxplot(titanic['age'],orient='v')\n",
        "plt.title('Titanic Boxplot de la Edad')\n",
        "plt.show()"
      ],
      "execution_count": 0,
      "outputs": []
    },
    {
      "cell_type": "code",
      "metadata": {
        "id": "DkqbYD--uibC",
        "colab_type": "code",
        "colab": {}
      },
      "source": [
        "plt.figure(figsize=(6,4))\n",
        "sns.boxplot(x='survived',y='age',data=titanic)\n",
        "plt.title('Titanic Boxplot de los sobrevivientes y la edad')\n",
        "plt.show()"
      ],
      "execution_count": 0,
      "outputs": []
    },
    {
      "cell_type": "code",
      "metadata": {
        "id": "s-S3MQYBuibD",
        "colab_type": "code",
        "colab": {}
      },
      "source": [
        "plt.figure(figsize=(10,4))\n",
        "sns.boxplot(x='sex',y='age',hue='survived',data=titanic)\n",
        "plt.title('Titanic Boxplot de los sobrevivientes, el genero y la edad')\n",
        "plt.show()"
      ],
      "execution_count": 0,
      "outputs": []
    },
    {
      "cell_type": "markdown",
      "metadata": {
        "id": "WkesiGtguibF",
        "colab_type": "text"
      },
      "source": [
        "### Barras"
      ]
    },
    {
      "cell_type": "code",
      "metadata": {
        "scrolled": false,
        "id": "drQ0lkacuibG",
        "colab_type": "code",
        "colab": {}
      },
      "source": [
        "plt.figure(figsize=(6, 4))\n",
        "sns.countplot('survived',data=titanic)\n",
        "plt.show()"
      ],
      "execution_count": 0,
      "outputs": []
    },
    {
      "cell_type": "code",
      "metadata": {
        "id": "L7WUQlnduibH",
        "colab_type": "code",
        "colab": {}
      },
      "source": [
        "plt.figure(figsize=(6, 4))\n",
        "sns.barplot(y='survived',x='pclass',data=titanic)\n",
        "plt.show()"
      ],
      "execution_count": 0,
      "outputs": []
    },
    {
      "cell_type": "code",
      "metadata": {
        "id": "UPItLQrVuibJ",
        "colab_type": "code",
        "colab": {}
      },
      "source": [
        "plt.figure(figsize=(6, 4))\n",
        "sns.barplot(y='survived',x='sex',hue='pclass',data=titanic)\n",
        "plt.show()"
      ],
      "execution_count": 0,
      "outputs": []
    },
    {
      "cell_type": "code",
      "metadata": {
        "scrolled": false,
        "id": "dOd5MzwzuibL",
        "colab_type": "code",
        "colab": {}
      },
      "source": [
        "plt.figure(figsize=(6, 4))\n",
        "sns.barplot(y='pclass',x='survived',hue='family',data=titanic)\n",
        "plt.show()"
      ],
      "execution_count": 0,
      "outputs": []
    },
    {
      "cell_type": "markdown",
      "metadata": {
        "id": "rnCQX18YuibO",
        "colab_type": "text"
      },
      "source": [
        "# Heatmap"
      ]
    },
    {
      "cell_type": "code",
      "metadata": {
        "id": "qzt8zrlquibP",
        "colab_type": "code",
        "colab": {}
      },
      "source": [
        "plt.figure()\n",
        "sns.heatmap(titanic.drop(['survived','family','D_female','D_male','count'],axis=1).corr(),annot=True, linewidth=0.5,fmt='.1f')\n",
        "plt.show()"
      ],
      "execution_count": 0,
      "outputs": []
    },
    {
      "cell_type": "markdown",
      "metadata": {
        "id": "0QR7FR8auibQ",
        "colab_type": "text"
      },
      "source": [
        "### Scatter Plot"
      ]
    },
    {
      "cell_type": "code",
      "metadata": {
        "id": "th5z0FGWuibR",
        "colab_type": "code",
        "colab": {}
      },
      "source": [
        "plt.figure()\n",
        "sns.scatterplot(x='age', y='fare', hue='sex', style='survived', data=titanic)\n",
        "plt.show()"
      ],
      "execution_count": 0,
      "outputs": []
    },
    {
      "cell_type": "code",
      "metadata": {
        "id": "X2Hdlk13uibT",
        "colab_type": "code",
        "colab": {}
      },
      "source": [
        "plt.figure()\n",
        "sns.scatterplot(x='age', y='fare', hue='sex', style='survived',size='count', data=titanic)\n",
        "plt.show()"
      ],
      "execution_count": 0,
      "outputs": []
    },
    {
      "cell_type": "code",
      "metadata": {
        "id": "LATRBOReuibU",
        "colab_type": "code",
        "colab": {}
      },
      "source": [
        "plt.figure()\n",
        "sns.scatterplot(x='age', y='fare',data=titanic)\n",
        "plt.show()"
      ],
      "execution_count": 0,
      "outputs": []
    },
    {
      "cell_type": "markdown",
      "metadata": {
        "id": "XbXjOC8RuibW",
        "colab_type": "text"
      },
      "source": [
        "### Practicar\n"
      ]
    },
    {
      "cell_type": "markdown",
      "metadata": {
        "id": "kMmgfeuvuibW",
        "colab_type": "text"
      },
      "source": [
        "El Departamento de Estadísticas de Educación publica anualmente un conjunto de datos que contiene el porcentaje de títulos de licenciatura otorgados a mujeres de 1970 a 2012. El conjunto de datos se divide en 17 categorías de títulos, con cada columna como una categoría separada.\n",
        "\n",
        "Randal Olson, científico de datos de la Universidad de Pensilvania, limpió el conjunto de datos y lo puso a disposición en su sitio web personal. Puede descargar el conjunto de datos Randal compilado [aquí](http://www.randalolson.com/wp-content/uploads/percent-bachelors-degrees-women-usa.csv). Aquí hay una vista previa de las primeras filas:"
      ]
    },
    {
      "cell_type": "code",
      "metadata": {
        "id": "G0P1WusruibW",
        "colab_type": "code",
        "colab": {}
      },
      "source": [
        "women_degrees = pd.read_csv('percent-bachelors-degrees-women-usa.csv')\n",
        "women_degrees.head()"
      ],
      "execution_count": 0,
      "outputs": []
    },
    {
      "cell_type": "markdown",
      "metadata": {
        "id": "H2Q2yxgWuibY",
        "colab_type": "text"
      },
      "source": [
        "Randal compiló este conjunto de datos para explorar la brecha de género en los campos STEM, que significa ciencia, tecnología, ingeniería y matemáticas. Esta brecha se informa a menudo en las noticias y no todos están de acuerdo en que existe una brecha.\n",
        "\n",
        "El objetivo de esta practica es explorar esta información y validar si se evidencia alguna brecha de género utilizando una visualización de datos efectiva. Primero generemos un diagrama matplotlib estándar."
      ]
    },
    {
      "cell_type": "code",
      "metadata": {
        "id": "8OibM-fRuibY",
        "colab_type": "code",
        "colab": {}
      },
      "source": [
        "plt.plot(women_degrees[\"Year\"],women_degrees[\"Biology\"])\n",
        "plt.show()"
      ],
      "execution_count": 0,
      "outputs": []
    },
    {
      "cell_type": "code",
      "metadata": {
        "id": "Dg2DEhheuibZ",
        "colab_type": "code",
        "colab": {}
      },
      "source": [
        "women_degrees.info()"
      ],
      "execution_count": 0,
      "outputs": []
    },
    {
      "cell_type": "code",
      "metadata": {
        "id": "LtHZhlOtuibd",
        "colab_type": "code",
        "colab": {}
      },
      "source": [
        "plt.plot(women_degrees[\"Year\"],women_degrees[\"Biology\"],color='blue',label=\"Women\")\n",
        "plt.plot(women_degrees[\"Year\"],100-women_degrees[\"Biology\"],color='red',label=\"Men\")\n",
        "plt.title(\"Percentage of Biology Degrees Awarded By Gender\")\n",
        "plt.legend(loc=\"upper right\")\n",
        "plt.tick_params(bottom=\"off\",top=\"off\",left=\"off\",right=\"off\")\n",
        "plt.show()"
      ],
      "execution_count": 0,
      "outputs": []
    },
    {
      "cell_type": "code",
      "metadata": {
        "id": "YbljJjHXuibf",
        "colab_type": "code",
        "colab": {}
      },
      "source": [
        ""
      ],
      "execution_count": 0,
      "outputs": []
    }
  ]
}