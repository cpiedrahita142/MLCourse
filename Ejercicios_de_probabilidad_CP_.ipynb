{
  "nbformat": 4,
  "nbformat_minor": 0,
  "metadata": {
    "colab": {
      "name": "Ejercicios_de_probabilidad_CP_.ipynb",
      "provenance": [],
      "include_colab_link": true
    },
    "kernelspec": {
      "name": "python3",
      "display_name": "Python 3"
    }
  },
  "cells": [
    {
      "cell_type": "markdown",
      "metadata": {
        "id": "view-in-github",
        "colab_type": "text"
      },
      "source": [
        "<a href=\"https://colab.research.google.com/github/cpiedrahita142/MLCourse/blob/master/Ejercicios_de_probabilidad_CP_.ipynb\" target=\"_parent\"><img src=\"https://colab.research.google.com/assets/colab-badge.svg\" alt=\"Open In Colab\"/></a>"
      ]
    },
    {
      "cell_type": "markdown",
      "metadata": {
        "id": "x4axUoFBV58w",
        "colab_type": "text"
      },
      "source": [
        "**1.** In an English deck of cards there are 4 pints (hearts, spades, diamonds and clubs) and 13 cards per pint. That is, in total there are 52 cards. Suppose you choose two random cards. What is the probability that one of them is black since the other is also black?\n",
        "\n",
        "* 1/2\n",
        "* 25/52\n",
        "* 25/51\n",
        "* 26/51\n",
        "* None of above\n",
        "\n",
        "**ANSWER:**\n",
        "* $P(A)$ = 26/52 - First throw\n",
        "* $\\mathrm{P}(B \\mid A)$ = 25/51 - Second throw\n"
      ]
    },
    {
      "cell_type": "markdown",
      "metadata": {
        "id": "L-0F5-O-V8LT",
        "colab_type": "text"
      },
      "source": [
        "**2**. The probability that a Titi monkey likes to eat peanuts is 40%, and the probability of consuming it regularly is 20%. In addition, studies have shown that, among the Titi monkeys that eat peanuts, the probability of dying before 5 years is 5%. What is the probability that a Titi monkey eats peanuts regularly and dies before age 5?\n",
        "\n",
        "* 0.1\n",
        "* 0.04\n",
        "* 0.02\n",
        "* 0.01\n",
        "\n",
        "Information provided\n",
        "- Probability(Likes)       = 0.4 = 40 % \n",
        "- Probability(Regularly)  = 0.2 = 20 % \n",
        "- Probablity (Dying Eats) = 0.05 = 5 % \n",
        "\n",
        "Question \n",
        "- Probablity(eats peanuts regularly and dies < age 5) = ?"
      ]
    },
    {
      "cell_type": "markdown",
      "metadata": {
        "id": "22OBH1tjZoyF",
        "colab_type": "text"
      },
      "source": [
        "**3**. If you throw a 6-sided side 3 times. X1, X2 and X3 denote the value of the first, second and third throw. What is P (X1 + X2 + X3 <= 5)\n",
        "\n",
        "* 10/36\n",
        "* 5/36\n",
        "* 10/216\n",
        "* 5/216\n",
        "\n",
        "**ANSWER:**\n",
        "\n",
        "  * $\\mathrm{P}(𝑋1 + 𝑋2 + X3)$ = 10/36"
      ]
    },
    {
      "cell_type": "markdown",
      "metadata": {
        "id": "Ngdb9Sl2hAm9",
        "colab_type": "text"
      },
      "source": [
        "**4.** In an English deck of cards there are 4 pints (hearts, spades, diamonds and tremolo) and 13 cards per pints. That is, in total there are 52 cards. Suppose you choose two random cards. What is the probability that one of them is black since the other is red?\n",
        "\n",
        "* 1/2\n",
        "* 25/52\n",
        "* 1/4\n",
        "* 26/51\n",
        "\n",
        "**ANSWER:**\n",
        "\n",
        "  * $P(A \\mid B)$ = 26/51\n"
      ]
    },
    {
      "cell_type": "markdown",
      "metadata": {
        "id": "FQ5zxWzBlusi",
        "colab_type": "text"
      },
      "source": [
        "**5.** Consider a fair coin and fair die. The possible outcome toss is \"head\" or \"tail\", while the possible outcome for the die throw is 1,2,3,4,5 or 6. You toss the coin 4 times and throw the die 2 times. The number of possible outcomes for this experiment is________\n",
        "\n",
        "**ANSWER:**\n",
        "\n",
        "  * 576"
      ]
    },
    {
      "cell_type": "markdown",
      "metadata": {
        "id": "X22nRo9gnf1F",
        "colab_type": "text"
      },
      "source": [
        "**6.** A dart is thrown at circular dashboard such that it will land randomly over the area of the dashboard. What is the probability that it lands closer to the center than to the edge? Assume the dart always reaches the dashboard.\n",
        "\n",
        "* 25%\n",
        "* 50%\n",
        "* 10%\n",
        "* 33%\n",
        "\n",
        "**ANSWER:**\n",
        "\n",
        "  * 25%"
      ]
    }
  ]
}